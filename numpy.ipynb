{
 "cells": [
  {
   "cell_type": "markdown",
   "metadata": {},
   "source": [
    "# numpy"
   ]
  },
  {
   "cell_type": "code",
   "execution_count": 3,
   "metadata": {},
   "outputs": [
    {
     "name": "stdout",
     "output_type": "stream",
     "text": [
      "[ 5 10 15 20]\n",
      "[[1 2 3]\n",
      " [4 5 6]\n",
      " [7 8 9]]\n",
      "(4,)\n",
      "(3, 3)\n"
     ]
    }
   ],
   "source": [
    "import numpy as np\n",
    "vector=np.array([5,10,15,20])\n",
    "matrix=np.array([[1,2,3],[4,5,6],[7,8,9]])\n",
    "print(vector)\n",
    "print(matrix)\n",
    "print(vector.shape)\n",
    "print(matrix.shape)"
   ]
  },
  {
   "cell_type": "code",
   "execution_count": 5,
   "metadata": {},
   "outputs": [
    {
     "name": "stdout",
     "output_type": "stream",
     "text": [
      "6\n",
      "[2 5 8]\n",
      "[ 5 10]\n",
      "[7 8 9]\n"
     ]
    }
   ],
   "source": [
    "#索引、切片(0开头)\n",
    "a=matrix[1,2]\n",
    "b=matrix[:,1]\n",
    "c=vector[0:2]\n",
    "d=matrix[2,:]\n",
    "print(a);print(b);print(c);print(d)\n"
   ]
  },
  {
   "cell_type": "code",
   "execution_count": 9,
   "metadata": {},
   "outputs": [
    {
     "name": "stdout",
     "output_type": "stream",
     "text": [
      "[ True False  True]\n",
      "[[ 5 10 15  0]\n",
      " [15  6 10  0]]\n"
     ]
    }
   ],
   "source": [
    "#提取y为某一值时的个体所有数据\n",
    "matrix=np.array([[5,10,15,0],[20,25,35,1],[15,6,10,0]])\n",
    "y0=(matrix[:,3]==0)\n",
    "print(y0)\n",
    "train0=matrix[y0,:]\n",
    "print(train0)"
   ]
  },
  {
   "cell_type": "code",
   "execution_count": 11,
   "metadata": {},
   "outputs": [
    {
     "name": "stdout",
     "output_type": "stream",
     "text": [
      "[False False False False]\n",
      "[ True  True False False]\n"
     ]
    }
   ],
   "source": [
    "#与或\n",
    "vector=np.array([5,10,15,20])\n",
    "equal=(vector==10)&(vector==5)\n",
    "equal2=(vector==10)|(vector==5)\n",
    "print(equal);print(equal2)"
   ]
  },
  {
   "cell_type": "code",
   "execution_count": 19,
   "metadata": {},
   "outputs": [
    {
     "name": "stdout",
     "output_type": "stream",
     "text": [
      "<U1\n",
      "['1' '2' '3']\n",
      "float64\n",
      "[1. 2. 3.]\n"
     ]
    }
   ],
   "source": [
    "#对数组整个数字类型进行改变\n",
    "vector=np.array(['1','2','3'])\n",
    "print(vector.dtype)\n",
    "print(vector)\n",
    "vector=vector.astype(float)\n",
    "print(vector.dtype)\n",
    "print(vector)"
   ]
  },
  {
   "cell_type": "code",
   "execution_count": 18,
   "metadata": {},
   "outputs": [
    {
     "name": "stdout",
     "output_type": "stream",
     "text": [
      "1\n",
      "9\n",
      "45\n",
      "[ 6 15 24]\n"
     ]
    }
   ],
   "source": [
    "#计算（详见书）\n",
    "matrix=np.array([[1,2,3],[4,5,6],[7,8,9]])\n",
    "print(matrix)\n",
    "print(matrix.min())\n",
    "print(matrix.max())\n",
    "print(matrix.sum())\n",
    "print(matrix.sum(axis=1))#每行各求和,0为每列各求和"
   ]
  },
  {
   "cell_type": "code",
   "execution_count": 21,
   "metadata": {},
   "outputs": [
    {
     "name": "stdout",
     "output_type": "stream",
     "text": [
      "[ 0  1  2  3  4  5  6  7  8  9 10 11 12 13 14]\n",
      "[[ 0  1  2  3  4]\n",
      " [ 5  6  7  8  9]\n",
      " [10 11 12 13 14]]\n",
      "[ 0  1  2  3  4  5  6  7  8  9 10 11 12 13 14]\n"
     ]
    }
   ],
   "source": [
    "#对向量进行变换\n",
    "print(np.arange(15))\n",
    "a=np.arange(15).reshape(3,5)#3行5列\n",
    "b=np.array(np.arange(15))\n",
    "print(a)\n",
    "print(b)"
   ]
  },
  {
   "cell_type": "code",
   "execution_count": 26,
   "metadata": {},
   "outputs": [
    {
     "name": "stdout",
     "output_type": "stream",
     "text": [
      "[[0. 0. 0. 0.]\n",
      " [0. 0. 0. 0.]\n",
      " [0. 0. 0. 0.]]\n"
     ]
    },
    {
     "data": {
      "text/plain": [
       "array([[[1, 1, 1, 1],\n",
       "        [1, 1, 1, 1],\n",
       "        [1, 1, 1, 1]],\n",
       "\n",
       "       [[1, 1, 1, 1],\n",
       "        [1, 1, 1, 1],\n",
       "        [1, 1, 1, 1]]])"
      ]
     },
     "execution_count": 26,
     "metadata": {},
     "output_type": "execute_result"
    }
   ],
   "source": [
    "#对矩阵的常见处理\n",
    "print(np.zeros((3,4)))\n",
    "np.ones((2,3,4),dtype=np.int32)#三维数组"
   ]
  },
  {
   "cell_type": "code",
   "execution_count": 37,
   "metadata": {},
   "outputs": [
    {
     "name": "stdout",
     "output_type": "stream",
     "text": [
      "[10 15 20 25]\n",
      "[[1 2 3]\n",
      " [4 5 6]\n",
      " [7 8 9]]\n"
     ]
    }
   ],
   "source": [
    "#arange\n",
    "print(np.arange(10,30,5))\n",
    "print(np.arange(1,10,1).reshape(3,3))"
   ]
  },
  {
   "cell_type": "code",
   "execution_count": 34,
   "metadata": {},
   "outputs": [
    {
     "data": {
      "text/plain": [
       "array([0.        , 0.06346652, 0.12693304, 0.19039955, 0.25386607,\n",
       "       0.31733259, 0.38079911, 0.44426563, 0.50773215, 0.57119866,\n",
       "       0.63466518, 0.6981317 , 0.76159822, 0.82506474, 0.88853126,\n",
       "       0.95199777, 1.01546429, 1.07893081, 1.14239733, 1.20586385,\n",
       "       1.26933037, 1.33279688, 1.3962634 , 1.45972992, 1.52319644,\n",
       "       1.58666296, 1.65012947, 1.71359599, 1.77706251, 1.84052903,\n",
       "       1.90399555, 1.96746207, 2.03092858, 2.0943951 , 2.15786162,\n",
       "       2.22132814, 2.28479466, 2.34826118, 2.41172769, 2.47519421,\n",
       "       2.53866073, 2.60212725, 2.66559377, 2.72906028, 2.7925268 ,\n",
       "       2.85599332, 2.91945984, 2.98292636, 3.04639288, 3.10985939,\n",
       "       3.17332591, 3.23679243, 3.30025895, 3.36372547, 3.42719199,\n",
       "       3.4906585 , 3.55412502, 3.61759154, 3.68105806, 3.74452458,\n",
       "       3.8079911 , 3.87145761, 3.93492413, 3.99839065, 4.06185717,\n",
       "       4.12532369, 4.1887902 , 4.25225672, 4.31572324, 4.37918976,\n",
       "       4.44265628, 4.5061228 , 4.56958931, 4.63305583, 4.69652235,\n",
       "       4.75998887, 4.82345539, 4.88692191, 4.95038842, 5.01385494,\n",
       "       5.07732146, 5.14078798, 5.2042545 , 5.26772102, 5.33118753,\n",
       "       5.39465405, 5.45812057, 5.52158709, 5.58505361, 5.64852012,\n",
       "       5.71198664, 5.77545316, 5.83891968, 5.9023862 , 5.96585272,\n",
       "       6.02931923, 6.09278575, 6.15625227, 6.21971879, 6.28318531])"
      ]
     },
     "execution_count": 34,
     "metadata": {},
     "output_type": "execute_result"
    }
   ],
   "source": [
    "#生成随机数矩阵\n",
    "print(np.random.random((2,3)))#随机取\n",
    "from numpy import pi\n",
    "np.linspace(0,2*pi,100)#均匀间隔取"
   ]
  },
  {
   "cell_type": "code",
   "execution_count": 41,
   "metadata": {},
   "outputs": [
    {
     "name": "stdout",
     "output_type": "stream",
     "text": [
      "[[2 0]\n",
      " [0 4]]\n",
      "[[5 4]\n",
      " [3 4]]\n",
      "[[5 4]\n",
      " [3 4]]\n",
      "[[2.71828183 2.71828183]\n",
      " [1.         2.71828183]]\n",
      "[[1.41421356 0.        ]\n",
      " [1.73205081 2.        ]]\n"
     ]
    }
   ],
   "source": [
    "#矩阵的计算\n",
    "A=np.array([[1,1],[0,1]])\n",
    "B=np.array([[2,0],[3,4]])\n",
    "print(A*B)\n",
    "print(A.dot(B))\n",
    "print(np.dot(A,B))\n",
    "C=np.exp(A)\n",
    "D=np.sqrt(B)\n",
    "print(C)\n",
    "print(D)"
   ]
  },
  {
   "cell_type": "code",
   "execution_count": 46,
   "metadata": {},
   "outputs": [
    {
     "name": "stdout",
     "output_type": "stream",
     "text": [
      "[[4. 8. 2. 9.]\n",
      " [1. 8. 2. 1.]\n",
      " [9. 0. 3. 4.]]\n",
      "[4. 8. 2. 9. 1. 8. 2. 1. 9. 0. 3. 4.]\n",
      "[[4. 8.]\n",
      " [2. 9.]\n",
      " [1. 8.]\n",
      " [2. 1.]\n",
      " [9. 0.]\n",
      " [3. 4.]]\n"
     ]
    }
   ],
   "source": [
    "a=np.floor(10*np.random.random((3,4)))#floor向下取整\n",
    "print(a)\n",
    "print(a.ravel())#将矩阵按行拉成一个向量\n",
    "a.shape=(6,2)#拉直成向量后变换形态\n",
    "print(a)\n",
    "print(a.T)#转置\n"
   ]
  },
  {
   "cell_type": "code",
   "execution_count": 47,
   "metadata": {},
   "outputs": [
    {
     "name": "stdout",
     "output_type": "stream",
     "text": [
      "[[2. 5.]\n",
      " [3. 6.]]\n",
      "[[9. 7.]\n",
      " [5. 6.]]\n",
      "[[2. 5. 9. 7.]\n",
      " [3. 6. 5. 6.]]\n",
      "[[2. 5.]\n",
      " [3. 6.]\n",
      " [9. 7.]\n",
      " [5. 6.]]\n"
     ]
    }
   ],
   "source": [
    "#拼接\n",
    "a=np.floor(10*np.random.random((2,2)))\n",
    "b=np.floor(10*np.random.random((2,2)))\n",
    "print(a)\n",
    "print(b)\n",
    "print(np.hstack((a,b)))#横着拼\n",
    "print(np.vstack((a,b)))#竖着拼"
   ]
  },
  {
   "cell_type": "code",
   "execution_count": 49,
   "metadata": {},
   "outputs": [
    {
     "name": "stdout",
     "output_type": "stream",
     "text": [
      "[[7. 4. 1. 2. 3. 9. 6. 1. 8. 0. 4. 4.]\n",
      " [5. 9. 9. 9. 8. 2. 0. 0. 0. 5. 8. 9.]]\n",
      "[array([[7., 4., 1., 2.],\n",
      "       [5., 9., 9., 9.]]), array([[3., 9., 6., 1.],\n",
      "       [8., 2., 0., 0.]]), array([[8., 0., 4., 4.],\n",
      "       [0., 5., 8., 9.]])]\n",
      "[array([[7., 4., 1.],\n",
      "       [5., 9., 9.]]), array([[2.],\n",
      "       [9.]]), array([[3., 9., 6., 1., 8., 0., 4., 4.],\n",
      "       [8., 2., 0., 0., 0., 5., 8., 9.]])]\n",
      "[[7. 5.]\n",
      " [4. 9.]\n",
      " [1. 9.]\n",
      " [2. 9.]\n",
      " [3. 8.]\n",
      " [9. 2.]\n",
      " [6. 0.]\n",
      " [1. 0.]\n",
      " [8. 0.]\n",
      " [0. 5.]\n",
      " [4. 8.]\n",
      " [4. 9.]]\n",
      "[array([[7., 5.],\n",
      "       [4., 9.],\n",
      "       [1., 9.]]), array([[2., 9.],\n",
      "       [3., 8.],\n",
      "       [9., 2.]]), array([[6., 0.],\n",
      "       [1., 0.],\n",
      "       [8., 0.]]), array([[0., 5.],\n",
      "       [4., 8.],\n",
      "       [4., 9.]])]\n"
     ]
    }
   ],
   "source": [
    "#分割\n",
    "a=np.floor(10*np.random.random((2,12)))\n",
    "print(a)\n",
    "print(np.hsplit(a,3))#横着切分成3份\n",
    "print(np.hsplit(a,(3,4)))#在横着第三个数前切一刀，在4前切一刀\n",
    "b=a.T\n",
    "print(b)\n",
    "print(np.vsplit(b,4))"
   ]
  },
  {
   "cell_type": "code",
   "execution_count": 55,
   "metadata": {},
   "outputs": [
    {
     "name": "stdout",
     "output_type": "stream",
     "text": [
      "(3, 4)\n",
      "261080723584\n",
      "261080723584\n",
      "(3, 4)\n",
      "[[ 0  1  2  3]\n",
      " [ 4  5  6  7]\n",
      " [ 8  9 10 11]]\n",
      "[[   0    1    2    3]\n",
      " [1234    5    6    7]\n",
      " [   8    9   10   11]]\n"
     ]
    }
   ],
   "source": [
    "a=np.arange(12)\n",
    "b=a\n",
    "b.shape=3,4\n",
    "print(a.shape)\n",
    "print(id(a));print(id(b))\n",
    "\n",
    "#view--a,c共用了一套值，即c中的值改变，a也会变，但c的形态变了，a不会变\n",
    "c=a.view()\n",
    "c.shape=(2,6)\n",
    "print(a.shape)\n",
    "print(a)\n",
    "c[0,4]=1234\n",
    "print(a)\n",
    "\n",
    "#复制（a与d无影响关系）\n",
    "d=a.copy()\n",
    "d[0,0]=12345\n",
    "print(a)"
   ]
  },
  {
   "cell_type": "code",
   "execution_count": 56,
   "metadata": {},
   "outputs": [
    {
     "name": "stdout",
     "output_type": "stream",
     "text": [
      "[[ 0.          0.84147098  0.90929743  0.14112001]\n",
      " [-0.7568025  -0.95892427 -0.2794155   0.6569866 ]\n",
      " [ 0.98935825  0.41211849 -0.54402111 -0.99999021]\n",
      " [-0.53657292  0.42016704  0.99060736  0.65028784]\n",
      " [-0.28790332 -0.96139749 -0.75098725  0.14987721]]\n",
      "[2 0 3 1]\n",
      "[0.98935825 0.84147098 0.99060736 0.6569866 ]\n"
     ]
    }
   ],
   "source": [
    "#查找每行/每列的最大值/最小值\n",
    "data=np.sin(np.arange(20)).reshape(5,4)\n",
    "print(data)\n",
    "ind=data.argmax(axis=0)#每列最大的值对应的索引\n",
    "print(ind)\n",
    "data_max=data[ind,range(data.shape[1])]\n",
    "print(data_max)"
   ]
  },
  {
   "cell_type": "code",
   "execution_count": 58,
   "metadata": {},
   "outputs": [
    {
     "name": "stdout",
     "output_type": "stream",
     "text": [
      "[ 0 10 20 30]\n",
      "[[ 0 10 20 30  0 10 20 30  0 10 20 30]\n",
      " [ 0 10 20 30  0 10 20 30  0 10 20 30]]\n"
     ]
    }
   ],
   "source": [
    "#扩展\n",
    "a=np.arange(0,40,10)\n",
    "print(a)\n",
    "b=np.tile(a,(2,3))#行扩大2倍，列扩大3倍\n",
    "print(b)"
   ]
  },
  {
   "cell_type": "code",
   "execution_count": 63,
   "metadata": {},
   "outputs": [
    {
     "name": "stdout",
     "output_type": "stream",
     "text": [
      "[[4 3 5]\n",
      " [1 2 1]]\n",
      "[[3 4 5]\n",
      " [1 1 2]]\n",
      "[[1 2 1]\n",
      " [4 3 5]]\n",
      "[2 3 1 0]\n",
      "[1 2 3 4]\n"
     ]
    }
   ],
   "source": [
    "#排序\n",
    "a=np.array([[4,3,5],[1,2,1]])\n",
    "print(a)\n",
    "b=np.sort(a,axis=1)\n",
    "print(b)\n",
    "a.sort(axis=0)\n",
    "print(a)\n",
    "\n",
    "c=np.array([4,3,1,2])\n",
    "j=np.argsort(c)#返回从小到大值的索引\n",
    "print(j)\n",
    "print(c[j])"
   ]
  },
  {
   "cell_type": "code",
   "execution_count": null,
   "metadata": {},
   "outputs": [],
   "source": []
  }
 ],
 "metadata": {
  "kernelspec": {
   "display_name": "Python 3",
   "language": "python",
   "name": "python3"
  },
  "language_info": {
   "codemirror_mode": {
    "name": "ipython",
    "version": 3
   },
   "file_extension": ".py",
   "mimetype": "text/x-python",
   "name": "python",
   "nbconvert_exporter": "python",
   "pygments_lexer": "ipython3",
   "version": "3.6.9"
  }
 },
 "nbformat": 4,
 "nbformat_minor": 2
}
